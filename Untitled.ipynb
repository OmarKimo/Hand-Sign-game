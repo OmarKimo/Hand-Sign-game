{
 "cells": [
  {
   "cell_type": "code",
   "execution_count": 1,
   "metadata": {},
   "outputs": [],
   "source": [
    "import numpy as np\n",
    "import cv2\n",
    "\n",
    "def divide(NBlock,frame,Clr):\n",
    "    W=int(cap.get(3))\n",
    "    H=int(cap.get(4))\n",
    "    stepV=W//NBlock +(W%NBlock!=0)\n",
    "    stepH=H//NBlock +(H%NBlock!=0)\n",
    "    sumv=stepV\n",
    "    while(sumv<W):   \n",
    "        cv2.line(frame,(sumv,0),(sumv,H),Clr,1)\n",
    "        sumv+=stepV\n",
    "    sumh=stepH\n",
    "    while(sumh<H):\n",
    "        cv2.line(frame,(0,sumh),(W,sumh),Clr,1)\n",
    "        sumh+=stepH\n",
    "  "
   ]
  },
  {
   "cell_type": "code",
   "execution_count": null,
   "metadata": {},
   "outputs": [],
   "source": [
    "resolution=[1000,720] #resolution of the screen \n",
    "NBlock=3 # the screen will divide into NBlock*NBlock Blocks\n",
    "color=(150,10,255) #color of the edges\n",
    "\n",
    "cap = cv2.VideoCapture(0)\n",
    "cap.set(3,resolution[0])\n",
    "cap.set(4,resolution[1])\n",
    "\n",
    "\n",
    "while(True):\n",
    "    ret, frame = cap.read()\n",
    "    frame = cv2.flip(frame,1)\n",
    "    cv2.imshow('Before',frame)\n",
    "    divide(NBlock,frame,color)\n",
    "    cv2.imshow('Camera',frame)\n",
    "    if cv2.waitKey(1) & 0xFF == ord('q'):\n",
    "        break\n",
    "\n",
    "\n",
    "cap.release()\n",
    "cv2.destroyAllWindows()"
   ]
  },
  {
   "cell_type": "code",
   "execution_count": null,
   "metadata": {},
   "outputs": [],
   "source": []
  }
 ],
 "metadata": {
  "kernelspec": {
   "display_name": "Python 3",
   "language": "python",
   "name": "python3"
  },
  "language_info": {
   "codemirror_mode": {
    "name": "ipython",
    "version": 3
   },
   "file_extension": ".py",
   "mimetype": "text/x-python",
   "name": "python",
   "nbconvert_exporter": "python",
   "pygments_lexer": "ipython3",
   "version": "3.7.0"
  }
 },
 "nbformat": 4,
 "nbformat_minor": 2
}
