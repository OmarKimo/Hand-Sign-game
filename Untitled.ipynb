{
 "cells": [
  {
   "cell_type": "code",
   "execution_count": null,
   "metadata": {},
   "outputs": [],
   "source": [
    "import numpy as np\n",
    "import cv2\n",
    "\n",
    "def divide(resolution,NBlock,frame):\n",
    "    stepV=resolution[0]//NBlock\n",
    "    stepH=resolution[1]//NBlock\n",
    "    sumv=stepV\n",
    "    while(sumv<resolution[0]):   \n",
    "        cv2.line(frame,(sumv,0),(sumv,resolution[1]),(0,0,255),1)\n",
    "        sumv+=stepV\n",
    "    sumh=stepH\n",
    "    while(sumh<resolution[1]):\n",
    "        cv2.line(frame,(0,sumh),(resolution[0],sumh),(0,0,255),1)\n",
    "        sumv+=stepV\n",
    "    \n"
   ]
  },
  {
   "cell_type": "code",
   "execution_count": null,
   "metadata": {},
   "outputs": [],
   "source": [
    "resolution=[1080,720]\n",
    "NBlock=3\n",
    "\n",
    "cap = cv2.VideoCapture(0)\n",
    "cap.set(3,resolution[0])\n",
    "cap.set(4,resolution[1])\n",
    "\n",
    "while(True):\n",
    "    ret, frame = cap.read()\n",
    "    frame = cv2.flip(frame,1)\n",
    "    divide(resolution,NBlock,frame)\n",
    "    cv2.imshow('frame',frame)\n",
    "    if cv2.waitKey(1) & 0xFF == ord('q'):\n",
    "        break\n",
    "\n",
    "\n",
    "\n",
    "cap.release()\n",
    "cv2.destroyAllWindows()"
   ]
  },
  {
   "cell_type": "code",
   "execution_count": null,
   "metadata": {},
   "outputs": [],
   "source": []
  }
 ],
 "metadata": {
  "kernelspec": {
   "display_name": "Python 3",
   "language": "python",
   "name": "python3"
  },
  "language_info": {
   "codemirror_mode": {
    "name": "ipython",
    "version": 3
   },
   "file_extension": ".py",
   "mimetype": "text/x-python",
   "name": "python",
   "nbconvert_exporter": "python",
   "pygments_lexer": "ipython3",
   "version": "3.7.0"
  }
 },
 "nbformat": 4,
 "nbformat_minor": 2
}
