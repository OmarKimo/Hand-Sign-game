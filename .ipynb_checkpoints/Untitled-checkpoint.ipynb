{
 "cells": [
  {
   "cell_type": "code",
   "execution_count": 31,
   "metadata": {},
   "outputs": [],
   "source": [
    "import numpy as np\n",
    "import cv2\n",
    "\n",
    "cap = cv2.VideoCapture(0)\n",
    "#cap.set(3,1280)\n",
    "#cap.set(4,720)\n",
    "w = int(cap.get(3))\n",
    "h = int(cap.get(4))\n",
    "\n",
    "while(True):\n",
    "    # Capture frame-by-frame\n",
    "    ret, frame = cap.read()\n",
    "\n",
    "    # Our operations on the frame come here\n",
    "    #gray = cv2.cvtColor(frame, cv2.COLOR_BGR2GRAY)\n",
    "    frame = cv2.flip(frame,1)\n",
    "    # Display the resulting frame\n",
    "    #frame = frame[10:20, 10:20]\n",
    "    #cv2.rectangle(frame, (150,0), 20, (255,0,0), 5)\n",
    "    cv2.line(frame,(w//3,0),(w//3,h),(0,0,255),1)\n",
    "    cv2.line(frame,((2*w)//3,0),((2*w)//3,h),(0,0,255),1)\n",
    "    cv2.line(frame,(0,h//3),(w,h//3),(0,0,255),1)\n",
    "    cv2.imshow('frame',frame)\n",
    "    #cv2.namedWindow('frame', cv2.WINDOW_NORMAL)\n",
    "    #cv2.resizeWindow('frame', 1000,1000)\n",
    "    if cv2.waitKey(1) & 0xFF == ord('q'):\n",
    "        break\n",
    "\n",
    "cap.release()\n",
    "cv2.destroyAllWindows()"
   ]
  },
  {
   "cell_type": "code",
   "execution_count": null,
   "metadata": {},
   "outputs": [],
   "source": []
  },
  {
   "cell_type": "code",
   "execution_count": null,
   "metadata": {},
   "outputs": [],
   "source": []
  }
 ],
 "metadata": {
  "kernelspec": {
   "display_name": "Python 3",
   "language": "python",
   "name": "python3"
  },
  "language_info": {
   "codemirror_mode": {
    "name": "ipython",
    "version": 3
   },
   "file_extension": ".py",
   "mimetype": "text/x-python",
   "name": "python",
   "nbconvert_exporter": "python",
   "pygments_lexer": "ipython3",
   "version": "3.7.0"
  }
 },
 "nbformat": 4,
 "nbformat_minor": 2
}
